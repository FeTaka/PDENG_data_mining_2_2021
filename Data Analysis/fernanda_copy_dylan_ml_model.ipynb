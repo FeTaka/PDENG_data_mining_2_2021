{
 "cells": [
  {
   "cell_type": "code",
   "execution_count": 1,
   "metadata": {},
   "outputs": [],
   "source": [
    "import numpy as np\n",
    "import pandas as pd\n",
    "import matplotlib.pyplot as plt\n",
    "import sklearn \n",
    "from sklearn.model_selection import cross_val_score\n",
    "from sklearn.metrics import confusion_matrix \n",
    "from sklearn.svm import SVC \n",
    "from sklearn.model_selection import KFold\n"
   ]
  },
  {
   "cell_type": "code",
   "execution_count": 2,
   "metadata": {},
   "outputs": [
    {
     "name": "stdout",
     "output_type": "stream",
     "text": [
      "df shape: (1258, 6)\n"
     ]
    },
    {
     "data": {
      "text/html": [
       "<div>\n",
       "<style scoped>\n",
       "    .dataframe tbody tr th:only-of-type {\n",
       "        vertical-align: middle;\n",
       "    }\n",
       "\n",
       "    .dataframe tbody tr th {\n",
       "        vertical-align: top;\n",
       "    }\n",
       "\n",
       "    .dataframe thead th {\n",
       "        text-align: right;\n",
       "    }\n",
       "</style>\n",
       "<table border=\"1\" class=\"dataframe\">\n",
       "  <thead>\n",
       "    <tr style=\"text-align: right;\">\n",
       "      <th></th>\n",
       "      <th>Adj Close</th>\n",
       "      <th>Volume</th>\n",
       "      <th>rsi6</th>\n",
       "      <th>macd</th>\n",
       "      <th>daily_trend</th>\n",
       "      <th>year</th>\n",
       "      <th>month</th>\n",
       "      <th>day</th>\n",
       "    </tr>\n",
       "    <tr>\n",
       "      <th>Date</th>\n",
       "      <th></th>\n",
       "      <th></th>\n",
       "      <th></th>\n",
       "      <th></th>\n",
       "      <th></th>\n",
       "      <th></th>\n",
       "      <th></th>\n",
       "      <th></th>\n",
       "    </tr>\n",
       "  </thead>\n",
       "  <tbody>\n",
       "    <tr>\n",
       "      <th>2016-12-23</th>\n",
       "      <td>105.424133</td>\n",
       "      <td>183900</td>\n",
       "      <td>81.778301</td>\n",
       "      <td>1.878188</td>\n",
       "      <td>1.0</td>\n",
       "      <td>2016</td>\n",
       "      <td>12</td>\n",
       "      <td>23</td>\n",
       "    </tr>\n",
       "    <tr>\n",
       "      <th>2016-12-27</th>\n",
       "      <td>106.166779</td>\n",
       "      <td>308500</td>\n",
       "      <td>84.333164</td>\n",
       "      <td>2.062190</td>\n",
       "      <td>-1.0</td>\n",
       "      <td>2016</td>\n",
       "      <td>12</td>\n",
       "      <td>27</td>\n",
       "    </tr>\n",
       "    <tr>\n",
       "      <th>2016-12-28</th>\n",
       "      <td>105.471748</td>\n",
       "      <td>509900</td>\n",
       "      <td>72.860080</td>\n",
       "      <td>2.124617</td>\n",
       "      <td>1.0</td>\n",
       "      <td>2016</td>\n",
       "      <td>12</td>\n",
       "      <td>28</td>\n",
       "    </tr>\n",
       "    <tr>\n",
       "      <th>2016-12-29</th>\n",
       "      <td>105.833542</td>\n",
       "      <td>754900</td>\n",
       "      <td>74.985837</td>\n",
       "      <td>2.179629</td>\n",
       "      <td>1.0</td>\n",
       "      <td>2016</td>\n",
       "      <td>12</td>\n",
       "      <td>29</td>\n",
       "    </tr>\n",
       "    <tr>\n",
       "      <th>2016-12-30</th>\n",
       "      <td>106.823700</td>\n",
       "      <td>858700</td>\n",
       "      <td>80.103804</td>\n",
       "      <td>2.280852</td>\n",
       "      <td>-1.0</td>\n",
       "      <td>2016</td>\n",
       "      <td>12</td>\n",
       "      <td>30</td>\n",
       "    </tr>\n",
       "    <tr>\n",
       "      <th>...</th>\n",
       "      <td>...</td>\n",
       "      <td>...</td>\n",
       "      <td>...</td>\n",
       "      <td>...</td>\n",
       "      <td>...</td>\n",
       "      <td>...</td>\n",
       "      <td>...</td>\n",
       "      <td>...</td>\n",
       "    </tr>\n",
       "    <tr>\n",
       "      <th>2021-11-09</th>\n",
       "      <td>850.049988</td>\n",
       "      <td>676500</td>\n",
       "      <td>78.748979</td>\n",
       "      <td>15.889212</td>\n",
       "      <td>-1.0</td>\n",
       "      <td>2021</td>\n",
       "      <td>11</td>\n",
       "      <td>9</td>\n",
       "    </tr>\n",
       "    <tr>\n",
       "      <th>2021-11-10</th>\n",
       "      <td>817.849976</td>\n",
       "      <td>737700</td>\n",
       "      <td>43.364854</td>\n",
       "      <td>14.121893</td>\n",
       "      <td>1.0</td>\n",
       "      <td>2021</td>\n",
       "      <td>11</td>\n",
       "      <td>10</td>\n",
       "    </tr>\n",
       "    <tr>\n",
       "      <th>2021-11-11</th>\n",
       "      <td>833.390015</td>\n",
       "      <td>416000</td>\n",
       "      <td>55.059322</td>\n",
       "      <td>13.815968</td>\n",
       "      <td>1.0</td>\n",
       "      <td>2021</td>\n",
       "      <td>11</td>\n",
       "      <td>11</td>\n",
       "    </tr>\n",
       "    <tr>\n",
       "      <th>2021-11-12</th>\n",
       "      <td>851.630005</td>\n",
       "      <td>531200</td>\n",
       "      <td>65.184828</td>\n",
       "      <td>14.873879</td>\n",
       "      <td>1.0</td>\n",
       "      <td>2021</td>\n",
       "      <td>11</td>\n",
       "      <td>12</td>\n",
       "    </tr>\n",
       "    <tr>\n",
       "      <th>2021-11-15</th>\n",
       "      <td>856.719971</td>\n",
       "      <td>638000</td>\n",
       "      <td>67.627289</td>\n",
       "      <td>15.939261</td>\n",
       "      <td>1.0</td>\n",
       "      <td>2021</td>\n",
       "      <td>11</td>\n",
       "      <td>15</td>\n",
       "    </tr>\n",
       "  </tbody>\n",
       "</table>\n",
       "<p>1232 rows × 8 columns</p>\n",
       "</div>"
      ],
      "text/plain": [
       "             Adj Close  Volume       rsi6       macd  daily_trend  year  \\\n",
       "Date                                                                      \n",
       "2016-12-23  105.424133  183900  81.778301   1.878188          1.0  2016   \n",
       "2016-12-27  106.166779  308500  84.333164   2.062190         -1.0  2016   \n",
       "2016-12-28  105.471748  509900  72.860080   2.124617          1.0  2016   \n",
       "2016-12-29  105.833542  754900  74.985837   2.179629          1.0  2016   \n",
       "2016-12-30  106.823700  858700  80.103804   2.280852         -1.0  2016   \n",
       "...                ...     ...        ...        ...          ...   ...   \n",
       "2021-11-09  850.049988  676500  78.748979  15.889212         -1.0  2021   \n",
       "2021-11-10  817.849976  737700  43.364854  14.121893          1.0  2021   \n",
       "2021-11-11  833.390015  416000  55.059322  13.815968          1.0  2021   \n",
       "2021-11-12  851.630005  531200  65.184828  14.873879          1.0  2021   \n",
       "2021-11-15  856.719971  638000  67.627289  15.939261          1.0  2021   \n",
       "\n",
       "            month  day  \n",
       "Date                    \n",
       "2016-12-23     12   23  \n",
       "2016-12-27     12   27  \n",
       "2016-12-28     12   28  \n",
       "2016-12-29     12   29  \n",
       "2016-12-30     12   30  \n",
       "...           ...  ...  \n",
       "2021-11-09     11    9  \n",
       "2021-11-10     11   10  \n",
       "2021-11-11     11   11  \n",
       "2021-11-12     11   12  \n",
       "2021-11-15     11   15  \n",
       "\n",
       "[1232 rows x 8 columns]"
      ]
     },
     "execution_count": 2,
     "metadata": {},
     "output_type": "execute_result"
    }
   ],
   "source": [
    "df = pd.read_csv(\"data/ASML_reduced.csv\", index_col=0)\n",
    "print(\"df shape:\",df.shape)\n",
    "\n",
    "\n",
    "#Extract date as new features\n",
    "df[\"Date\"] = pd.to_datetime(df[\"Date\"],format=\"%Y-%m-%d\")\n",
    "df[\"year\"] = df[\"Date\"].dt.year\n",
    "df[\"month\"] = df[\"Date\"].dt.month\n",
    "df[\"day\"] = df[\"Date\"].dt.day\n",
    "df = df.set_index(\"Date\")\n",
    "\n",
    "df = df.dropna()\n",
    "df "
   ]
  },
  {
   "cell_type": "markdown",
   "metadata": {},
   "source": [
    "## K fold preparation"
   ]
  },
  {
   "cell_type": "code",
   "execution_count": 3,
   "metadata": {},
   "outputs": [],
   "source": [
    "X = df.drop([\"daily_trend\"],axis=1).to_numpy()\n",
    "y = df[\"daily_trend\"].to_numpy()\n",
    "kf = KFold(n_splits=2, shuffle=True, random_state=520)"
   ]
  },
  {
   "cell_type": "code",
   "execution_count": 4,
   "metadata": {},
   "outputs": [],
   "source": [
    "for train_index, test_index in kf.split(X):\n",
    "    #print(\"TRAIN:\", train_index, \"TEST:\", test_index)\n",
    "    X_train, X_test = X[train_index], X[test_index]\n",
    "    y_train, y_test = y[train_index], y[test_index]"
   ]
  },
  {
   "cell_type": "markdown",
   "metadata": {},
   "source": [
    "## Apply ML"
   ]
  },
  {
   "cell_type": "code",
   "execution_count": 5,
   "metadata": {},
   "outputs": [
    {
     "name": "stdout",
     "output_type": "stream",
     "text": [
      "0.523\n",
      "[[  0   0]\n",
      " [294 322]]\n",
      "\n"
     ]
    }
   ],
   "source": [
    "model = SVC(C=10.0, cache_size=200, class_weight=None, coef0=0.0, degree=3, gamma=50, kernel=\"rbf\",\n",
    "max_iter=-1, probability=False, random_state=None, \n",
    "shrinking=True, tol=0.001, verbose=False\n",
    ") \n",
    "model.fit(X_train, y_train) \n",
    "pred = model.predict(X_test) \n",
    "print(\"%0.3f\" % model.score(X_test, y_test)) \n",
    "print(\"%s\\n\" % confusion_matrix(pred, y_test)) "
   ]
  },
  {
   "cell_type": "code",
   "execution_count": 9,
   "metadata": {},
   "outputs": [
    {
     "data": {
      "text/plain": [
       "0.5438311688311688"
      ]
     },
     "execution_count": 9,
     "metadata": {},
     "output_type": "execute_result"
    }
   ],
   "source": [
    "# Fun fact \n",
    "df[df.daily_trend==1].shape[0]/df.shape[0]"
   ]
  },
  {
   "cell_type": "code",
   "execution_count": null,
   "metadata": {},
   "outputs": [],
   "source": []
  }
 ],
 "metadata": {
  "interpreter": {
   "hash": "64f0c21180bdd690c1d82984af74a46284300aaa475846087ae0c8dbd68cef7f"
  },
  "kernelspec": {
   "display_name": "Python 3 (ipykernel)",
   "language": "python",
   "name": "python3"
  },
  "language_info": {
   "codemirror_mode": {
    "name": "ipython",
    "version": 3
   },
   "file_extension": ".py",
   "mimetype": "text/x-python",
   "name": "python",
   "nbconvert_exporter": "python",
   "pygments_lexer": "ipython3",
   "version": "3.8.12"
  }
 },
 "nbformat": 4,
 "nbformat_minor": 4
}

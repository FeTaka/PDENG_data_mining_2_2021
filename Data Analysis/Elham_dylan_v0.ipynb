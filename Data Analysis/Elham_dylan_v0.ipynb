{
 "cells": [
  {
   "cell_type": "code",
   "execution_count": 18,
   "metadata": {},
   "outputs": [],
   "source": [
    "import numpy as np\n",
    "import pandas as pd"
   ]
  },
  {
   "cell_type": "code",
   "execution_count": 19,
   "metadata": {},
   "outputs": [
    {
     "data": {
      "text/html": [
       "<div>\n",
       "<style scoped>\n",
       "    .dataframe tbody tr th:only-of-type {\n",
       "        vertical-align: middle;\n",
       "    }\n",
       "\n",
       "    .dataframe tbody tr th {\n",
       "        vertical-align: top;\n",
       "    }\n",
       "\n",
       "    .dataframe thead th {\n",
       "        text-align: right;\n",
       "    }\n",
       "</style>\n",
       "<table border=\"1\" class=\"dataframe\">\n",
       "  <thead>\n",
       "    <tr style=\"text-align: right;\">\n",
       "      <th></th>\n",
       "      <th>Unnamed: 0</th>\n",
       "      <th>Date</th>\n",
       "      <th>Open</th>\n",
       "      <th>High</th>\n",
       "      <th>Low</th>\n",
       "      <th>Close</th>\n",
       "      <th>Adj Close</th>\n",
       "      <th>Volume</th>\n",
       "      <th>obv</th>\n",
       "      <th>ma6</th>\n",
       "      <th>ma10</th>\n",
       "      <th>rsi6</th>\n",
       "      <th>rsi10</th>\n",
       "      <th>macd</th>\n",
       "      <th>dif</th>\n",
       "      <th>atr10</th>\n",
       "      <th>atr20</th>\n",
       "      <th>bias6</th>\n",
       "      <th>bias10</th>\n",
       "      <th>tapi</th>\n",
       "    </tr>\n",
       "  </thead>\n",
       "  <tbody>\n",
       "    <tr>\n",
       "      <th>0</th>\n",
       "      <td>0</td>\n",
       "      <td>2016-11-17</td>\n",
       "      <td>101.239998</td>\n",
       "      <td>102.849998</td>\n",
       "      <td>101.190002</td>\n",
       "      <td>102.559998</td>\n",
       "      <td>97.645622</td>\n",
       "      <td>1344700</td>\n",
       "      <td>1344700</td>\n",
       "      <td>NaN</td>\n",
       "      <td>NaN</td>\n",
       "      <td>NaN</td>\n",
       "      <td>NaN</td>\n",
       "      <td>NaN</td>\n",
       "      <td>NaN</td>\n",
       "      <td>0.000000</td>\n",
       "      <td>0.000000</td>\n",
       "      <td>NaN</td>\n",
       "      <td>NaN</td>\n",
       "      <td>13111.349710</td>\n",
       "    </tr>\n",
       "    <tr>\n",
       "      <th>1</th>\n",
       "      <td>1</td>\n",
       "      <td>2016-11-18</td>\n",
       "      <td>103.580002</td>\n",
       "      <td>104.750000</td>\n",
       "      <td>103.379997</td>\n",
       "      <td>104.589996</td>\n",
       "      <td>99.578346</td>\n",
       "      <td>1914300</td>\n",
       "      <td>3259000</td>\n",
       "      <td>NaN</td>\n",
       "      <td>NaN</td>\n",
       "      <td>NaN</td>\n",
       "      <td>NaN</td>\n",
       "      <td>NaN</td>\n",
       "      <td>NaN</td>\n",
       "      <td>0.000000</td>\n",
       "      <td>0.000000</td>\n",
       "      <td>NaN</td>\n",
       "      <td>NaN</td>\n",
       "      <td>18302.897726</td>\n",
       "    </tr>\n",
       "    <tr>\n",
       "      <th>2</th>\n",
       "      <td>2</td>\n",
       "      <td>2016-11-21</td>\n",
       "      <td>104.089996</td>\n",
       "      <td>105.110001</td>\n",
       "      <td>104.019997</td>\n",
       "      <td>105.089996</td>\n",
       "      <td>100.054390</td>\n",
       "      <td>1408200</td>\n",
       "      <td>4667200</td>\n",
       "      <td>NaN</td>\n",
       "      <td>NaN</td>\n",
       "      <td>NaN</td>\n",
       "      <td>NaN</td>\n",
       "      <td>NaN</td>\n",
       "      <td>NaN</td>\n",
       "      <td>0.000000</td>\n",
       "      <td>0.000000</td>\n",
       "      <td>NaN</td>\n",
       "      <td>NaN</td>\n",
       "      <td>13399.943416</td>\n",
       "    </tr>\n",
       "    <tr>\n",
       "      <th>3</th>\n",
       "      <td>3</td>\n",
       "      <td>2016-11-22</td>\n",
       "      <td>105.449997</td>\n",
       "      <td>105.610001</td>\n",
       "      <td>104.800003</td>\n",
       "      <td>105.320000</td>\n",
       "      <td>100.273384</td>\n",
       "      <td>876300</td>\n",
       "      <td>5543500</td>\n",
       "      <td>NaN</td>\n",
       "      <td>NaN</td>\n",
       "      <td>NaN</td>\n",
       "      <td>NaN</td>\n",
       "      <td>NaN</td>\n",
       "      <td>NaN</td>\n",
       "      <td>0.000000</td>\n",
       "      <td>0.000000</td>\n",
       "      <td>NaN</td>\n",
       "      <td>NaN</td>\n",
       "      <td>8320.357007</td>\n",
       "    </tr>\n",
       "    <tr>\n",
       "      <th>4</th>\n",
       "      <td>4</td>\n",
       "      <td>2016-11-23</td>\n",
       "      <td>104.480003</td>\n",
       "      <td>105.349998</td>\n",
       "      <td>104.250000</td>\n",
       "      <td>105.099998</td>\n",
       "      <td>100.063911</td>\n",
       "      <td>432300</td>\n",
       "      <td>5111200</td>\n",
       "      <td>NaN</td>\n",
       "      <td>NaN</td>\n",
       "      <td>NaN</td>\n",
       "      <td>NaN</td>\n",
       "      <td>NaN</td>\n",
       "      <td>NaN</td>\n",
       "      <td>0.000000</td>\n",
       "      <td>0.000000</td>\n",
       "      <td>NaN</td>\n",
       "      <td>NaN</td>\n",
       "      <td>4113.225578</td>\n",
       "    </tr>\n",
       "    <tr>\n",
       "      <th>...</th>\n",
       "      <td>...</td>\n",
       "      <td>...</td>\n",
       "      <td>...</td>\n",
       "      <td>...</td>\n",
       "      <td>...</td>\n",
       "      <td>...</td>\n",
       "      <td>...</td>\n",
       "      <td>...</td>\n",
       "      <td>...</td>\n",
       "      <td>...</td>\n",
       "      <td>...</td>\n",
       "      <td>...</td>\n",
       "      <td>...</td>\n",
       "      <td>...</td>\n",
       "      <td>...</td>\n",
       "      <td>...</td>\n",
       "      <td>...</td>\n",
       "      <td>...</td>\n",
       "      <td>...</td>\n",
       "      <td>...</td>\n",
       "    </tr>\n",
       "    <tr>\n",
       "      <th>1253</th>\n",
       "      <td>1253</td>\n",
       "      <td>2021-11-10</td>\n",
       "      <td>829.609985</td>\n",
       "      <td>835.440002</td>\n",
       "      <td>815.109985</td>\n",
       "      <td>817.849976</td>\n",
       "      <td>817.849976</td>\n",
       "      <td>737700</td>\n",
       "      <td>86884600</td>\n",
       "      <td>840.889994</td>\n",
       "      <td>829.088001</td>\n",
       "      <td>43.364854</td>\n",
       "      <td>51.307540</td>\n",
       "      <td>14.121893</td>\n",
       "      <td>4.518819</td>\n",
       "      <td>19.559911</td>\n",
       "      <td>20.038150</td>\n",
       "      <td>-3.840003</td>\n",
       "      <td>-1.123802</td>\n",
       "      <td>901.999171</td>\n",
       "    </tr>\n",
       "    <tr>\n",
       "      <th>1254</th>\n",
       "      <td>1254</td>\n",
       "      <td>2021-11-11</td>\n",
       "      <td>833.270020</td>\n",
       "      <td>839.039978</td>\n",
       "      <td>829.200012</td>\n",
       "      <td>833.390015</td>\n",
       "      <td>833.390015</td>\n",
       "      <td>416000</td>\n",
       "      <td>87300600</td>\n",
       "      <td>841.451660</td>\n",
       "      <td>831.108002</td>\n",
       "      <td>55.059322</td>\n",
       "      <td>57.428905</td>\n",
       "      <td>13.815968</td>\n",
       "      <td>3.370316</td>\n",
       "      <td>19.722920</td>\n",
       "      <td>20.095742</td>\n",
       "      <td>-1.343608</td>\n",
       "      <td>0.228201</td>\n",
       "      <td>499.166048</td>\n",
       "    </tr>\n",
       "    <tr>\n",
       "      <th>1255</th>\n",
       "      <td>1255</td>\n",
       "      <td>2021-11-12</td>\n",
       "      <td>840.000000</td>\n",
       "      <td>855.000000</td>\n",
       "      <td>835.099976</td>\n",
       "      <td>851.630005</td>\n",
       "      <td>851.630005</td>\n",
       "      <td>531200</td>\n",
       "      <td>87831800</td>\n",
       "      <td>841.641663</td>\n",
       "      <td>834.983002</td>\n",
       "      <td>65.184828</td>\n",
       "      <td>63.425384</td>\n",
       "      <td>14.873879</td>\n",
       "      <td>3.542582</td>\n",
       "      <td>19.911627</td>\n",
       "      <td>20.171455</td>\n",
       "      <td>1.664724</td>\n",
       "      <td>1.664700</td>\n",
       "      <td>623.745050</td>\n",
       "    </tr>\n",
       "    <tr>\n",
       "      <th>1256</th>\n",
       "      <td>1256</td>\n",
       "      <td>2021-11-15</td>\n",
       "      <td>855.000000</td>\n",
       "      <td>861.599976</td>\n",
       "      <td>852.989990</td>\n",
       "      <td>856.719971</td>\n",
       "      <td>856.719971</td>\n",
       "      <td>638000</td>\n",
       "      <td>88469800</td>\n",
       "      <td>843.261658</td>\n",
       "      <td>839.909998</td>\n",
       "      <td>67.627289</td>\n",
       "      <td>64.955921</td>\n",
       "      <td>15.939261</td>\n",
       "      <td>3.686371</td>\n",
       "      <td>18.917461</td>\n",
       "      <td>19.661380</td>\n",
       "      <td>2.243052</td>\n",
       "      <td>1.680997</td>\n",
       "      <td>744.700744</td>\n",
       "    </tr>\n",
       "    <tr>\n",
       "      <th>1257</th>\n",
       "      <td>1257</td>\n",
       "      <td>2021-11-16</td>\n",
       "      <td>851.520020</td>\n",
       "      <td>862.609985</td>\n",
       "      <td>847.239990</td>\n",
       "      <td>860.549988</td>\n",
       "      <td>860.549988</td>\n",
       "      <td>690000</td>\n",
       "      <td>89159800</td>\n",
       "      <td>845.031657</td>\n",
       "      <td>844.762995</td>\n",
       "      <td>69.555836</td>\n",
       "      <td>66.140563</td>\n",
       "      <td>16.897846</td>\n",
       "      <td>3.715965</td>\n",
       "      <td>18.562715</td>\n",
       "      <td>19.446811</td>\n",
       "      <td>2.586388</td>\n",
       "      <td>1.578699</td>\n",
       "      <td>801.812805</td>\n",
       "    </tr>\n",
       "  </tbody>\n",
       "</table>\n",
       "<p>1258 rows × 20 columns</p>\n",
       "</div>"
      ],
      "text/plain": [
       "      Unnamed: 0        Date        Open        High         Low       Close  \\\n",
       "0              0  2016-11-17  101.239998  102.849998  101.190002  102.559998   \n",
       "1              1  2016-11-18  103.580002  104.750000  103.379997  104.589996   \n",
       "2              2  2016-11-21  104.089996  105.110001  104.019997  105.089996   \n",
       "3              3  2016-11-22  105.449997  105.610001  104.800003  105.320000   \n",
       "4              4  2016-11-23  104.480003  105.349998  104.250000  105.099998   \n",
       "...          ...         ...         ...         ...         ...         ...   \n",
       "1253        1253  2021-11-10  829.609985  835.440002  815.109985  817.849976   \n",
       "1254        1254  2021-11-11  833.270020  839.039978  829.200012  833.390015   \n",
       "1255        1255  2021-11-12  840.000000  855.000000  835.099976  851.630005   \n",
       "1256        1256  2021-11-15  855.000000  861.599976  852.989990  856.719971   \n",
       "1257        1257  2021-11-16  851.520020  862.609985  847.239990  860.549988   \n",
       "\n",
       "       Adj Close   Volume       obv         ma6        ma10       rsi6  \\\n",
       "0      97.645622  1344700   1344700         NaN         NaN        NaN   \n",
       "1      99.578346  1914300   3259000         NaN         NaN        NaN   \n",
       "2     100.054390  1408200   4667200         NaN         NaN        NaN   \n",
       "3     100.273384   876300   5543500         NaN         NaN        NaN   \n",
       "4     100.063911   432300   5111200         NaN         NaN        NaN   \n",
       "...          ...      ...       ...         ...         ...        ...   \n",
       "1253  817.849976   737700  86884600  840.889994  829.088001  43.364854   \n",
       "1254  833.390015   416000  87300600  841.451660  831.108002  55.059322   \n",
       "1255  851.630005   531200  87831800  841.641663  834.983002  65.184828   \n",
       "1256  856.719971   638000  88469800  843.261658  839.909998  67.627289   \n",
       "1257  860.549988   690000  89159800  845.031657  844.762995  69.555836   \n",
       "\n",
       "          rsi10       macd       dif      atr10      atr20     bias6  \\\n",
       "0           NaN        NaN       NaN   0.000000   0.000000       NaN   \n",
       "1           NaN        NaN       NaN   0.000000   0.000000       NaN   \n",
       "2           NaN        NaN       NaN   0.000000   0.000000       NaN   \n",
       "3           NaN        NaN       NaN   0.000000   0.000000       NaN   \n",
       "4           NaN        NaN       NaN   0.000000   0.000000       NaN   \n",
       "...         ...        ...       ...        ...        ...       ...   \n",
       "1253  51.307540  14.121893  4.518819  19.559911  20.038150 -3.840003   \n",
       "1254  57.428905  13.815968  3.370316  19.722920  20.095742 -1.343608   \n",
       "1255  63.425384  14.873879  3.542582  19.911627  20.171455  1.664724   \n",
       "1256  64.955921  15.939261  3.686371  18.917461  19.661380  2.243052   \n",
       "1257  66.140563  16.897846  3.715965  18.562715  19.446811  2.586388   \n",
       "\n",
       "        bias10          tapi  \n",
       "0          NaN  13111.349710  \n",
       "1          NaN  18302.897726  \n",
       "2          NaN  13399.943416  \n",
       "3          NaN   8320.357007  \n",
       "4          NaN   4113.225578  \n",
       "...        ...           ...  \n",
       "1253 -1.123802    901.999171  \n",
       "1254  0.228201    499.166048  \n",
       "1255  1.664700    623.745050  \n",
       "1256  1.680997    744.700744  \n",
       "1257  1.578699    801.812805  \n",
       "\n",
       "[1258 rows x 20 columns]"
      ]
     },
     "execution_count": 19,
     "metadata": {},
     "output_type": "execute_result"
    }
   ],
   "source": [
    "df = pd.read_csv(\"data/ASML_v1.csv\")\n",
    "df"
   ]
  },
  {
   "cell_type": "markdown",
   "metadata": {},
   "source": [
    "## Feature selection\n",
    "\n",
    "https://scikit-learn.org/stable/modules/feature_selection.html"
   ]
  },
  {
   "cell_type": "code",
   "execution_count": 20,
   "metadata": {},
   "outputs": [
    {
     "data": {
      "text/plain": [
       "array([[0.00000000e+00, 1.01239998e+02, 1.02849998e+02, ...,\n",
       "                   nan,            nan, 1.31113497e+04],\n",
       "       [1.00000000e+00, 1.03580002e+02, 1.04750000e+02, ...,\n",
       "                   nan,            nan, 1.83028977e+04],\n",
       "       [2.00000000e+00, 1.04089996e+02, 1.05110001e+02, ...,\n",
       "                   nan,            nan, 1.33999434e+04],\n",
       "       ...,\n",
       "       [1.25500000e+03, 8.40000000e+02, 8.55000000e+02, ...,\n",
       "        1.66472369e+00, 1.66470031e+00, 6.23745050e+02],\n",
       "       [1.25600000e+03, 8.55000000e+02, 8.61599976e+02, ...,\n",
       "        2.24305217e+00, 1.68099732e+00, 7.44700744e+02],\n",
       "       [1.25700000e+03, 8.51520020e+02, 8.62609985e+02, ...,\n",
       "        2.58638847e+00, 1.57869934e+00, 8.01812805e+02]])"
      ]
     },
     "execution_count": 20,
     "metadata": {},
     "output_type": "execute_result"
    }
   ],
   "source": [
    "from sklearn.feature_selection import VarianceThreshold\n",
    "sel = VarianceThreshold(0)\n",
    "sel.fit_transform(df.drop([\"Date\"],axis=1))"
   ]
  },
  {
   "cell_type": "markdown",
   "metadata": {},
   "source": [
    "## Feature ranking"
   ]
  },
  {
   "cell_type": "markdown",
   "metadata": {},
   "source": [
    "# (PCA)"
   ]
  },
  {
   "cell_type": "code",
   "execution_count": 21,
   "metadata": {},
   "outputs": [],
   "source": [
    "import requests\n",
    "import matplotlib.pyplot as plt\n",
    "from datetime import datetime\n",
    "from sklearn.preprocessing import StandardScaler\n",
    "from sklearn.decomposition import PCA\n",
    "import seaborn as sns; sns.set()"
   ]
  },
  {
   "cell_type": "code",
   "execution_count": 22,
   "metadata": {},
   "outputs": [],
   "source": [
    "from sklearn.preprocessing import StandardScaler"
   ]
  },
  {
   "cell_type": "code",
   "execution_count": 23,
   "metadata": {},
   "outputs": [
    {
     "data": {
      "text/plain": [
       "Index(['Unnamed: 0', 'Date', 'Open', 'High', 'Low', 'Close', 'Adj Close',\n",
       "       'Volume', 'obv', 'ma6', 'ma10', 'rsi6', 'rsi10', 'macd', 'dif', 'atr10',\n",
       "       'atr20', 'bias6', 'bias10', 'tapi'],\n",
       "      dtype='object')"
      ]
     },
     "execution_count": 23,
     "metadata": {},
     "output_type": "execute_result"
    }
   ],
   "source": [
    "df.columns"
   ]
  },
  {
   "cell_type": "code",
   "execution_count": 24,
   "metadata": {},
   "outputs": [],
   "source": [
    "df.drop(['Unnamed: 0', 'Date'], axis=1, inplace=True)"
   ]
  },
  {
   "cell_type": "code",
   "execution_count": 25,
   "metadata": {},
   "outputs": [],
   "source": [
    "df.dropna(inplace=True)"
   ]
  },
  {
   "cell_type": "code",
   "execution_count": 26,
   "metadata": {},
   "outputs": [],
   "source": [
    "X_meaned = df - np.mean(df , axis = 0)"
   ]
  },
  {
   "cell_type": "code",
   "execution_count": 27,
   "metadata": {},
   "outputs": [],
   "source": [
    "# calculating the covariance matrix of the mean-centered data.\n",
    "cov_mat = np.cov(X_meaned , rowvar = False)"
   ]
  },
  {
   "cell_type": "code",
   "execution_count": 28,
   "metadata": {},
   "outputs": [],
   "source": [
    "#Calculating Eigenvalues and Eigenvectors of the covariance matrix\n",
    "eigen_values , eigen_vectors = np.linalg.eigh(cov_mat)"
   ]
  },
  {
   "cell_type": "code",
   "execution_count": 29,
   "metadata": {},
   "outputs": [],
   "source": [
    "#sort the eigenvalues in descending order\n",
    "sorted_index = np.argsort(eigen_values)[::-1]\n",
    " \n",
    "sorted_eigenvalue = eigen_values[sorted_index]\n",
    "#similarly sort the eigenvectors \n",
    "sorted_eigenvectors = eigen_vectors[:,sorted_index]\n"
   ]
  },
  {
   "cell_type": "code",
   "execution_count": 30,
   "metadata": {},
   "outputs": [],
   "source": [
    "# select the first n eigenvectors, n is desired dimension\n",
    "# of our final reduced data"
   ]
  },
  {
   "cell_type": "markdown",
   "metadata": {},
   "source": [
    "#you can select any number of components."
   ]
  },
  {
   "cell_type": "code",
   "execution_count": 31,
   "metadata": {},
   "outputs": [],
   "source": [
    "n_components = 2 #you can select any number of components.\n",
    "eigenvector_subset = sorted_eigenvectors[:,0:n_components]"
   ]
  },
  {
   "cell_type": "code",
   "execution_count": 32,
   "metadata": {},
   "outputs": [],
   "source": [
    "#Transform the data \n",
    "X_reduced = np.dot(eigenvector_subset.transpose(),X_meaned.transpose()).transpose()"
   ]
  },
  {
   "cell_type": "code",
   "execution_count": 33,
   "metadata": {},
   "outputs": [
    {
     "data": {
      "text/plain": [
       "(1225, 2)"
      ]
     },
     "execution_count": 33,
     "metadata": {},
     "output_type": "execute_result"
    }
   ],
   "source": [
    "X_reduced.shape"
   ]
  },
  {
   "cell_type": "code",
   "execution_count": 34,
   "metadata": {},
   "outputs": [
    {
     "data": {
      "text/plain": [
       "Text(0, 0.5, 'PC2')"
      ]
     },
     "execution_count": 34,
     "metadata": {},
     "output_type": "execute_result"
    },
    {
     "data": {
      "image/png": "[encoded data removed]",
      "text/plain": [
       "<Figure size 576x432 with 1 Axes>"
      ]
     },
     "metadata": {},
     "output_type": "display_data"
    }
   ],
   "source": [
    "# giving a larger plot\n",
    "plt.figure(figsize =(8, 6))\n",
    "  \n",
    "plt.scatter(X_reduced[:, 0], X_reduced[:, 1], cmap ='plasma')\n",
    "  \n",
    "# labeling x and y axes\n",
    "plt.xlabel('PC1')\n",
    "plt.ylabel('PC2')"
   ]
  },
  {
   "cell_type": "markdown",
   "id": "8e0aaba3",
   "metadata": {},
   "source": [
    "## K-means clustering"
   ]
  },
  {
   "cell_type": "code",
   "execution_count": 128,
   "id": "b33ffa4c",
   "metadata": {},
   "outputs": [],
   "source": [
    "pc1 = \"Adj Close\"\n",
    "pc2 = 'rsi6'#\"dif\"\n",
    "pc_lst = [pc1,pc2]\n",
    "df_pc = df[[pc1,pc2]]"
   ]
  },
  {
   "cell_type": "code",
   "execution_count": 129,
   "id": "af65d351",
   "metadata": {},
   "outputs": [
    {
     "data": {
      "text/html": [
       "<div>\n",
       "<style scoped>\n",
       "    .dataframe tbody tr th:only-of-type {\n",
       "        vertical-align: middle;\n",
       "    }\n",
       "\n",
       "    .dataframe tbody tr th {\n",
       "        vertical-align: top;\n",
       "    }\n",
       "\n",
       "    .dataframe thead th {\n",
       "        text-align: right;\n",
       "    }\n",
       "</style>\n",
       "<table border=\"1\" class=\"dataframe\">\n",
       "  <thead>\n",
       "    <tr style=\"text-align: right;\">\n",
       "      <th></th>\n",
       "      <th>Adj Close</th>\n",
       "      <th>rsi6</th>\n",
       "    </tr>\n",
       "  </thead>\n",
       "  <tbody>\n",
       "    <tr>\n",
       "      <th>33</th>\n",
       "      <td>105.795464</td>\n",
       "      <td>60.639993</td>\n",
       "    </tr>\n",
       "    <tr>\n",
       "      <th>34</th>\n",
       "      <td>107.099808</td>\n",
       "      <td>70.303527</td>\n",
       "    </tr>\n",
       "    <tr>\n",
       "      <th>35</th>\n",
       "      <td>107.252144</td>\n",
       "      <td>71.291367</td>\n",
       "    </tr>\n",
       "    <tr>\n",
       "      <th>36</th>\n",
       "      <td>108.042381</td>\n",
       "      <td>76.216203</td>\n",
       "    </tr>\n",
       "    <tr>\n",
       "      <th>37</th>\n",
       "      <td>109.270569</td>\n",
       "      <td>81.981164</td>\n",
       "    </tr>\n",
       "    <tr>\n",
       "      <th>...</th>\n",
       "      <td>...</td>\n",
       "      <td>...</td>\n",
       "    </tr>\n",
       "    <tr>\n",
       "      <th>1253</th>\n",
       "      <td>817.849976</td>\n",
       "      <td>43.364854</td>\n",
       "    </tr>\n",
       "    <tr>\n",
       "      <th>1254</th>\n",
       "      <td>833.390015</td>\n",
       "      <td>55.059322</td>\n",
       "    </tr>\n",
       "    <tr>\n",
       "      <th>1255</th>\n",
       "      <td>851.630005</td>\n",
       "      <td>65.184828</td>\n",
       "    </tr>\n",
       "    <tr>\n",
       "      <th>1256</th>\n",
       "      <td>856.719971</td>\n",
       "      <td>67.627289</td>\n",
       "    </tr>\n",
       "    <tr>\n",
       "      <th>1257</th>\n",
       "      <td>860.549988</td>\n",
       "      <td>69.555836</td>\n",
       "    </tr>\n",
       "  </tbody>\n",
       "</table>\n",
       "<p>1225 rows × 2 columns</p>\n",
       "</div>"
      ],
      "text/plain": [
       "       Adj Close       rsi6\n",
       "33    105.795464  60.639993\n",
       "34    107.099808  70.303527\n",
       "35    107.252144  71.291367\n",
       "36    108.042381  76.216203\n",
       "37    109.270569  81.981164\n",
       "...          ...        ...\n",
       "1253  817.849976  43.364854\n",
       "1254  833.390015  55.059322\n",
       "1255  851.630005  65.184828\n",
       "1256  856.719971  67.627289\n",
       "1257  860.549988  69.555836\n",
       "\n",
       "[1225 rows x 2 columns]"
      ]
     },
     "execution_count": 129,
     "metadata": {},
     "output_type": "execute_result"
    }
   ],
   "source": [
    "df_pc"
   ]
  },
  {
   "cell_type": "code",
   "execution_count": 148,
   "id": "83bb77fa",
   "metadata": {},
   "outputs": [
    {
     "name": "stdout",
     "output_type": "stream",
     "text": [
      "[0 0 0 ... 1 1 1]\n"
     ]
    }
   ],
   "source": [
    "#Import required module\n",
    "from sklearn.cluster import KMeans\n",
    " \n",
    "#Initialize the class object\n",
    "kmeans = KMeans(n_clusters= 3) # TODO: n?\n",
    " \n",
    "#predict the labels of clusters.\n",
    "label = kmeans.fit_predict(df_pc)\n",
    " \n",
    "print(label)"
   ]
  },
  {
   "cell_type": "code",
   "execution_count": 149,
   "id": "60d89ad1",
   "metadata": {},
   "outputs": [
    {
     "data": {
      "text/html": [
       "<div>\n",
       "<style scoped>\n",
       "    .dataframe tbody tr th:only-of-type {\n",
       "        vertical-align: middle;\n",
       "    }\n",
       "\n",
       "    .dataframe tbody tr th {\n",
       "        vertical-align: top;\n",
       "    }\n",
       "\n",
       "    .dataframe thead th {\n",
       "        text-align: right;\n",
       "    }\n",
       "</style>\n",
       "<table border=\"1\" class=\"dataframe\">\n",
       "  <thead>\n",
       "    <tr style=\"text-align: right;\">\n",
       "      <th></th>\n",
       "      <th>Adj Close</th>\n",
       "      <th>rsi6</th>\n",
       "    </tr>\n",
       "  </thead>\n",
       "  <tbody>\n",
       "    <tr>\n",
       "      <th>33</th>\n",
       "      <td>105.795464</td>\n",
       "      <td>60.639993</td>\n",
       "    </tr>\n",
       "    <tr>\n",
       "      <th>34</th>\n",
       "      <td>107.099808</td>\n",
       "      <td>70.303527</td>\n",
       "    </tr>\n",
       "    <tr>\n",
       "      <th>35</th>\n",
       "      <td>107.252144</td>\n",
       "      <td>71.291367</td>\n",
       "    </tr>\n",
       "    <tr>\n",
       "      <th>36</th>\n",
       "      <td>108.042381</td>\n",
       "      <td>76.216203</td>\n",
       "    </tr>\n",
       "    <tr>\n",
       "      <th>37</th>\n",
       "      <td>109.270569</td>\n",
       "      <td>81.981164</td>\n",
       "    </tr>\n",
       "    <tr>\n",
       "      <th>...</th>\n",
       "      <td>...</td>\n",
       "      <td>...</td>\n",
       "    </tr>\n",
       "    <tr>\n",
       "      <th>843</th>\n",
       "      <td>248.999878</td>\n",
       "      <td>51.120233</td>\n",
       "    </tr>\n",
       "    <tr>\n",
       "      <th>845</th>\n",
       "      <td>257.890625</td>\n",
       "      <td>54.536480</td>\n",
       "    </tr>\n",
       "    <tr>\n",
       "      <th>846</th>\n",
       "      <td>245.441605</td>\n",
       "      <td>46.533126</td>\n",
       "    </tr>\n",
       "    <tr>\n",
       "      <th>847</th>\n",
       "      <td>243.736404</td>\n",
       "      <td>45.437107</td>\n",
       "    </tr>\n",
       "    <tr>\n",
       "      <th>848</th>\n",
       "      <td>241.104660</td>\n",
       "      <td>43.537909</td>\n",
       "    </tr>\n",
       "  </tbody>\n",
       "</table>\n",
       "<p>733 rows × 2 columns</p>\n",
       "</div>"
      ],
      "text/plain": [
       "      Adj Close       rsi6\n",
       "33   105.795464  60.639993\n",
       "34   107.099808  70.303527\n",
       "35   107.252144  71.291367\n",
       "36   108.042381  76.216203\n",
       "37   109.270569  81.981164\n",
       "..          ...        ...\n",
       "843  248.999878  51.120233\n",
       "845  257.890625  54.536480\n",
       "846  245.441605  46.533126\n",
       "847  243.736404  45.437107\n",
       "848  241.104660  43.537909\n",
       "\n",
       "[733 rows x 2 columns]"
      ]
     },
     "execution_count": 149,
     "metadata": {},
     "output_type": "execute_result"
    }
   ],
   "source": [
    "df_pc[label == 0]"
   ]
  },
  {
   "cell_type": "code",
   "execution_count": 150,
   "id": "f83818dc",
   "metadata": {},
   "outputs": [
    {
     "data": {
      "image/png": "[encoded data removed]",
      "text/plain": [
       "<Figure size 432x288 with 1 Axes>"
      ]
     },
     "metadata": {},
     "output_type": "display_data"
    }
   ],
   "source": [
    "import matplotlib.pyplot as plt\n",
    "#filter rows of original data\n",
    "filtered_label0 = df_pc[label == 1]\n",
    "#plotting the results\n",
    "plt.scatter(filtered_label0.iloc[:,0] , filtered_label0.iloc[:,1])\n",
    "plt.show()"
   ]
  },
  {
   "cell_type": "code",
   "execution_count": 151,
   "id": "085ff730",
   "metadata": {},
   "outputs": [
    {
     "data": {
      "text/plain": [
       "array([0, 1])"
      ]
     },
     "execution_count": 151,
     "metadata": {},
     "output_type": "execute_result"
    }
   ],
   "source": [
    "u_labels"
   ]
  },
  {
   "cell_type": "code",
   "execution_count": 152,
   "id": "6ca37038",
   "metadata": {},
   "outputs": [
    {
     "data": {
      "image/png": "[encoded data removed]",
      "text/plain": [
       "<Figure size 432x288 with 1 Axes>"
      ]
     },
     "metadata": {},
     "output_type": "display_data"
    }
   ],
   "source": [
    "# Visualize all the clusters\n",
    " \n",
    "u_labels = np.unique(label)\n",
    " \n",
    "#plotting the results:\n",
    " \n",
    "for i in u_labels:\n",
    "    plt.scatter(df_pc.iloc[label == i , 0] , df_pc.iloc[label == i , 1] , label = i)\n",
    "plt.legend()\n",
    "plt.show()"
   ]
  },
  {
   "cell_type": "code",
   "execution_count": 153,
   "id": "01d817ab",
   "metadata": {},
   "outputs": [],
   "source": [
    "## Comment: 1. how dow we interprete the kmeans plot 2. what is the objective func if we use archeological method to choose k"
   ]
  },
  {
   "cell_type": "code",
   "execution_count": 154,
   "id": "68fc605a",
   "metadata": {},
   "outputs": [
    {
     "name": "stderr",
     "output_type": "stream",
     "text": [
      "C:\\Users\\vayne\\anaconda3\\envs\\py38\\lib\\site-packages\\sklearn\\cluster\\_kmeans.py:1039: UserWarning: KMeans is known to have a memory leak on Windows with MKL, when there are less chunks than available threads. You can avoid it by setting the environment variable OMP_NUM_THREADS=5.\n",
      "  warnings.warn(\n"
     ]
    }
   ],
   "source": [
    "# Choosing k using elbow method\n",
    "# https://realpython.com/k-means-clustering-python/\n",
    "kmeans_kwargs = { \n",
    "    \"init\": \"random\",\n",
    "    \"n_init\": 10,\n",
    "    \"max_iter\": 300,\n",
    "    \"random_state\": 42,\n",
    "}\n",
    "\n",
    "# A list holds the SSE values for each k\n",
    "sse = []\n",
    "for k in range(1, 11):\n",
    "    kmeans = KMeans(n_clusters=k, **kmeans_kwargs)\n",
    "    kmeans.fit(df_pc)\n",
    "    sse.append(kmeans.inertia_)"
   ]
  },
  {
   "cell_type": "code",
   "execution_count": 155,
   "id": "25c0745f",
   "metadata": {},
   "outputs": [
    {
     "data": {
      "image/png": "[encoded data removed]",
      "text/plain": [
       "<Figure size 432x288 with 1 Axes>"
      ]
     },
     "metadata": {},
     "output_type": "display_data"
    }
   ],
   "source": [
    " plt.style.use(\"fivethirtyeight\")\n",
    " plt.plot(range(1, 11), sse)\n",
    " plt.xticks(range(1, 11))\n",
    " plt.xlabel(\"Number of Clusters\")\n",
    " plt.ylabel(\"SSE\")\n",
    " plt.show()"
   ]
  },
  {
   "cell_type": "code",
   "execution_count": 156,
   "id": "2ccee386",
   "metadata": {},
   "outputs": [
    {
     "data": {
      "text/plain": [
       "2"
      ]
     },
     "execution_count": 156,
     "metadata": {},
     "output_type": "execute_result"
    }
   ],
   "source": [
    "from kneed import  KneeLocator\n",
    "kl = KneeLocator(\n",
    "    range(1, 11), sse, curve=\"convex\", direction=\"decreasing\")\n",
    "kl.elbow"
   ]
  },
  {
   "cell_type": "markdown",
   "id": "f6e50947",
   "metadata": {},
   "source": [
    "## Apply Machine Learning "
   ]
  },
  {
   "cell_type": "markdown",
   "id": "7efea032",
   "metadata": {},
   "source": []
  }
 ],
 "metadata": {
  "kernelspec": {
   "display_name": "Python 3",
   "language": "python",
   "name": "python3"
  },
  "language_info": {
   "codemirror_mode": {
    "name": "ipython",
    "version": 3
   },
   "file_extension": ".py",
   "mimetype": "text/x-python",
   "name": "python",
   "nbconvert_exporter": "python",
   "pygments_lexer": "ipython3",
   "version": "3.8.12"
  }
 },
 "nbformat": 4,
 "nbformat_minor": 5
}

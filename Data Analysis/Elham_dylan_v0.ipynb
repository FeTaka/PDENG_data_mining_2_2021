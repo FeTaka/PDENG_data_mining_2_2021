{
 "cells": [
  {
   "cell_type": "code",
   "execution_count": 144,
   "metadata": {},
   "outputs": [],
   "source": [
    "import numpy as np\n",
    "import pandas as pd"
   ]
  },
  {
   "cell_type": "code",
   "execution_count": 145,
   "metadata": {},
   "outputs": [
    {
     "data": {
      "text/html": [
       "<div>\n",
       "<style scoped>\n",
       "    .dataframe tbody tr th:only-of-type {\n",
       "        vertical-align: middle;\n",
       "    }\n",
       "\n",
       "    .dataframe tbody tr th {\n",
       "        vertical-align: top;\n",
       "    }\n",
       "\n",
       "    .dataframe thead th {\n",
       "        text-align: right;\n",
       "    }\n",
       "</style>\n",
       "<table border=\"1\" class=\"dataframe\">\n",
       "  <thead>\n",
       "    <tr style=\"text-align: right;\">\n",
       "      <th></th>\n",
       "      <th>Unnamed: 0</th>\n",
       "      <th>Date</th>\n",
       "      <th>Open</th>\n",
       "      <th>High</th>\n",
       "      <th>Low</th>\n",
       "      <th>Close</th>\n",
       "      <th>Adj Close</th>\n",
       "      <th>Volume</th>\n",
       "      <th>obv</th>\n",
       "      <th>ma6</th>\n",
       "      <th>ma10</th>\n",
       "      <th>rsi6</th>\n",
       "      <th>rsi10</th>\n",
       "      <th>macd</th>\n",
       "      <th>dif</th>\n",
       "      <th>atr10</th>\n",
       "      <th>atr20</th>\n",
       "      <th>bias6</th>\n",
       "      <th>bias10</th>\n",
       "      <th>tapi</th>\n",
       "    </tr>\n",
       "  </thead>\n",
       "  <tbody>\n",
       "    <tr>\n",
       "      <th>0</th>\n",
       "      <td>0</td>\n",
       "      <td>2016-11-17</td>\n",
       "      <td>101.239998</td>\n",
       "      <td>102.849998</td>\n",
       "      <td>101.190002</td>\n",
       "      <td>102.559998</td>\n",
       "      <td>97.645622</td>\n",
       "      <td>1344700</td>\n",
       "      <td>1344700</td>\n",
       "      <td>NaN</td>\n",
       "      <td>NaN</td>\n",
       "      <td>NaN</td>\n",
       "      <td>NaN</td>\n",
       "      <td>NaN</td>\n",
       "      <td>NaN</td>\n",
       "      <td>0.000000</td>\n",
       "      <td>0.000000</td>\n",
       "      <td>NaN</td>\n",
       "      <td>NaN</td>\n",
       "      <td>13111.349710</td>\n",
       "    </tr>\n",
       "    <tr>\n",
       "      <th>1</th>\n",
       "      <td>1</td>\n",
       "      <td>2016-11-18</td>\n",
       "      <td>103.580002</td>\n",
       "      <td>104.750000</td>\n",
       "      <td>103.379997</td>\n",
       "      <td>104.589996</td>\n",
       "      <td>99.578346</td>\n",
       "      <td>1914300</td>\n",
       "      <td>3259000</td>\n",
       "      <td>NaN</td>\n",
       "      <td>NaN</td>\n",
       "      <td>NaN</td>\n",
       "      <td>NaN</td>\n",
       "      <td>NaN</td>\n",
       "      <td>NaN</td>\n",
       "      <td>0.000000</td>\n",
       "      <td>0.000000</td>\n",
       "      <td>NaN</td>\n",
       "      <td>NaN</td>\n",
       "      <td>18302.897726</td>\n",
       "    </tr>\n",
       "    <tr>\n",
       "      <th>2</th>\n",
       "      <td>2</td>\n",
       "      <td>2016-11-21</td>\n",
       "      <td>104.089996</td>\n",
       "      <td>105.110001</td>\n",
       "      <td>104.019997</td>\n",
       "      <td>105.089996</td>\n",
       "      <td>100.054390</td>\n",
       "      <td>1408200</td>\n",
       "      <td>4667200</td>\n",
       "      <td>NaN</td>\n",
       "      <td>NaN</td>\n",
       "      <td>NaN</td>\n",
       "      <td>NaN</td>\n",
       "      <td>NaN</td>\n",
       "      <td>NaN</td>\n",
       "      <td>0.000000</td>\n",
       "      <td>0.000000</td>\n",
       "      <td>NaN</td>\n",
       "      <td>NaN</td>\n",
       "      <td>13399.943416</td>\n",
       "    </tr>\n",
       "    <tr>\n",
       "      <th>3</th>\n",
       "      <td>3</td>\n",
       "      <td>2016-11-22</td>\n",
       "      <td>105.449997</td>\n",
       "      <td>105.610001</td>\n",
       "      <td>104.800003</td>\n",
       "      <td>105.320000</td>\n",
       "      <td>100.273384</td>\n",
       "      <td>876300</td>\n",
       "      <td>5543500</td>\n",
       "      <td>NaN</td>\n",
       "      <td>NaN</td>\n",
       "      <td>NaN</td>\n",
       "      <td>NaN</td>\n",
       "      <td>NaN</td>\n",
       "      <td>NaN</td>\n",
       "      <td>0.000000</td>\n",
       "      <td>0.000000</td>\n",
       "      <td>NaN</td>\n",
       "      <td>NaN</td>\n",
       "      <td>8320.357007</td>\n",
       "    </tr>\n",
       "    <tr>\n",
       "      <th>4</th>\n",
       "      <td>4</td>\n",
       "      <td>2016-11-23</td>\n",
       "      <td>104.480003</td>\n",
       "      <td>105.349998</td>\n",
       "      <td>104.250000</td>\n",
       "      <td>105.099998</td>\n",
       "      <td>100.063911</td>\n",
       "      <td>432300</td>\n",
       "      <td>5111200</td>\n",
       "      <td>NaN</td>\n",
       "      <td>NaN</td>\n",
       "      <td>NaN</td>\n",
       "      <td>NaN</td>\n",
       "      <td>NaN</td>\n",
       "      <td>NaN</td>\n",
       "      <td>0.000000</td>\n",
       "      <td>0.000000</td>\n",
       "      <td>NaN</td>\n",
       "      <td>NaN</td>\n",
       "      <td>4113.225578</td>\n",
       "    </tr>\n",
       "    <tr>\n",
       "      <th>...</th>\n",
       "      <td>...</td>\n",
       "      <td>...</td>\n",
       "      <td>...</td>\n",
       "      <td>...</td>\n",
       "      <td>...</td>\n",
       "      <td>...</td>\n",
       "      <td>...</td>\n",
       "      <td>...</td>\n",
       "      <td>...</td>\n",
       "      <td>...</td>\n",
       "      <td>...</td>\n",
       "      <td>...</td>\n",
       "      <td>...</td>\n",
       "      <td>...</td>\n",
       "      <td>...</td>\n",
       "      <td>...</td>\n",
       "      <td>...</td>\n",
       "      <td>...</td>\n",
       "      <td>...</td>\n",
       "      <td>...</td>\n",
       "    </tr>\n",
       "    <tr>\n",
       "      <th>1253</th>\n",
       "      <td>1253</td>\n",
       "      <td>2021-11-10</td>\n",
       "      <td>829.609985</td>\n",
       "      <td>835.440002</td>\n",
       "      <td>815.109985</td>\n",
       "      <td>817.849976</td>\n",
       "      <td>817.849976</td>\n",
       "      <td>737700</td>\n",
       "      <td>86884600</td>\n",
       "      <td>840.889995</td>\n",
       "      <td>829.088001</td>\n",
       "      <td>43.364854</td>\n",
       "      <td>51.307540</td>\n",
       "      <td>14.121893</td>\n",
       "      <td>4.518819</td>\n",
       "      <td>19.559911</td>\n",
       "      <td>20.038150</td>\n",
       "      <td>-3.840003</td>\n",
       "      <td>-1.123802</td>\n",
       "      <td>901.999171</td>\n",
       "    </tr>\n",
       "    <tr>\n",
       "      <th>1254</th>\n",
       "      <td>1254</td>\n",
       "      <td>2021-11-11</td>\n",
       "      <td>833.270020</td>\n",
       "      <td>839.039978</td>\n",
       "      <td>829.200012</td>\n",
       "      <td>833.390015</td>\n",
       "      <td>833.390015</td>\n",
       "      <td>416000</td>\n",
       "      <td>87300600</td>\n",
       "      <td>841.451660</td>\n",
       "      <td>831.108002</td>\n",
       "      <td>55.059322</td>\n",
       "      <td>57.428905</td>\n",
       "      <td>13.815968</td>\n",
       "      <td>3.370316</td>\n",
       "      <td>19.722920</td>\n",
       "      <td>20.095742</td>\n",
       "      <td>-1.343608</td>\n",
       "      <td>0.228201</td>\n",
       "      <td>499.166048</td>\n",
       "    </tr>\n",
       "    <tr>\n",
       "      <th>1255</th>\n",
       "      <td>1255</td>\n",
       "      <td>2021-11-12</td>\n",
       "      <td>840.000000</td>\n",
       "      <td>855.000000</td>\n",
       "      <td>835.099976</td>\n",
       "      <td>851.630005</td>\n",
       "      <td>851.630005</td>\n",
       "      <td>531200</td>\n",
       "      <td>87831800</td>\n",
       "      <td>841.641663</td>\n",
       "      <td>834.983002</td>\n",
       "      <td>65.184828</td>\n",
       "      <td>63.425384</td>\n",
       "      <td>14.873879</td>\n",
       "      <td>3.542582</td>\n",
       "      <td>19.911627</td>\n",
       "      <td>20.171455</td>\n",
       "      <td>1.664724</td>\n",
       "      <td>1.664700</td>\n",
       "      <td>623.745050</td>\n",
       "    </tr>\n",
       "    <tr>\n",
       "      <th>1256</th>\n",
       "      <td>1256</td>\n",
       "      <td>2021-11-15</td>\n",
       "      <td>855.000000</td>\n",
       "      <td>861.599976</td>\n",
       "      <td>852.989990</td>\n",
       "      <td>856.719971</td>\n",
       "      <td>856.719971</td>\n",
       "      <td>638000</td>\n",
       "      <td>88469800</td>\n",
       "      <td>843.261658</td>\n",
       "      <td>839.909998</td>\n",
       "      <td>67.627289</td>\n",
       "      <td>64.955921</td>\n",
       "      <td>15.939261</td>\n",
       "      <td>3.686371</td>\n",
       "      <td>18.917461</td>\n",
       "      <td>19.661380</td>\n",
       "      <td>2.243052</td>\n",
       "      <td>1.680997</td>\n",
       "      <td>744.700744</td>\n",
       "    </tr>\n",
       "    <tr>\n",
       "      <th>1257</th>\n",
       "      <td>1257</td>\n",
       "      <td>2021-11-16</td>\n",
       "      <td>851.520020</td>\n",
       "      <td>862.609985</td>\n",
       "      <td>847.239990</td>\n",
       "      <td>860.549988</td>\n",
       "      <td>860.549988</td>\n",
       "      <td>690000</td>\n",
       "      <td>89159800</td>\n",
       "      <td>845.031657</td>\n",
       "      <td>844.762995</td>\n",
       "      <td>69.555836</td>\n",
       "      <td>66.140563</td>\n",
       "      <td>16.897846</td>\n",
       "      <td>3.715965</td>\n",
       "      <td>18.562715</td>\n",
       "      <td>19.446811</td>\n",
       "      <td>2.586388</td>\n",
       "      <td>1.578699</td>\n",
       "      <td>801.812805</td>\n",
       "    </tr>\n",
       "  </tbody>\n",
       "</table>\n",
       "<p>1258 rows × 20 columns</p>\n",
       "</div>"
      ],
      "text/plain": [
       "      Unnamed: 0        Date        Open        High         Low       Close  \\\n",
       "0              0  2016-11-17  101.239998  102.849998  101.190002  102.559998   \n",
       "1              1  2016-11-18  103.580002  104.750000  103.379997  104.589996   \n",
       "2              2  2016-11-21  104.089996  105.110001  104.019997  105.089996   \n",
       "3              3  2016-11-22  105.449997  105.610001  104.800003  105.320000   \n",
       "4              4  2016-11-23  104.480003  105.349998  104.250000  105.099998   \n",
       "...          ...         ...         ...         ...         ...         ...   \n",
       "1253        1253  2021-11-10  829.609985  835.440002  815.109985  817.849976   \n",
       "1254        1254  2021-11-11  833.270020  839.039978  829.200012  833.390015   \n",
       "1255        1255  2021-11-12  840.000000  855.000000  835.099976  851.630005   \n",
       "1256        1256  2021-11-15  855.000000  861.599976  852.989990  856.719971   \n",
       "1257        1257  2021-11-16  851.520020  862.609985  847.239990  860.549988   \n",
       "\n",
       "       Adj Close   Volume       obv         ma6        ma10       rsi6  \\\n",
       "0      97.645622  1344700   1344700         NaN         NaN        NaN   \n",
       "1      99.578346  1914300   3259000         NaN         NaN        NaN   \n",
       "2     100.054390  1408200   4667200         NaN         NaN        NaN   \n",
       "3     100.273384   876300   5543500         NaN         NaN        NaN   \n",
       "4     100.063911   432300   5111200         NaN         NaN        NaN   \n",
       "...          ...      ...       ...         ...         ...        ...   \n",
       "1253  817.849976   737700  86884600  840.889995  829.088001  43.364854   \n",
       "1254  833.390015   416000  87300600  841.451660  831.108002  55.059322   \n",
       "1255  851.630005   531200  87831800  841.641663  834.983002  65.184828   \n",
       "1256  856.719971   638000  88469800  843.261658  839.909998  67.627289   \n",
       "1257  860.549988   690000  89159800  845.031657  844.762995  69.555836   \n",
       "\n",
       "          rsi10       macd       dif      atr10      atr20     bias6  \\\n",
       "0           NaN        NaN       NaN   0.000000   0.000000       NaN   \n",
       "1           NaN        NaN       NaN   0.000000   0.000000       NaN   \n",
       "2           NaN        NaN       NaN   0.000000   0.000000       NaN   \n",
       "3           NaN        NaN       NaN   0.000000   0.000000       NaN   \n",
       "4           NaN        NaN       NaN   0.000000   0.000000       NaN   \n",
       "...         ...        ...       ...        ...        ...       ...   \n",
       "1253  51.307540  14.121893  4.518819  19.559911  20.038150 -3.840003   \n",
       "1254  57.428905  13.815968  3.370316  19.722920  20.095742 -1.343608   \n",
       "1255  63.425384  14.873879  3.542582  19.911627  20.171455  1.664724   \n",
       "1256  64.955921  15.939261  3.686371  18.917461  19.661380  2.243052   \n",
       "1257  66.140563  16.897846  3.715965  18.562715  19.446811  2.586388   \n",
       "\n",
       "        bias10          tapi  \n",
       "0          NaN  13111.349710  \n",
       "1          NaN  18302.897726  \n",
       "2          NaN  13399.943416  \n",
       "3          NaN   8320.357007  \n",
       "4          NaN   4113.225578  \n",
       "...        ...           ...  \n",
       "1253 -1.123802    901.999171  \n",
       "1254  0.228201    499.166048  \n",
       "1255  1.664700    623.745050  \n",
       "1256  1.680997    744.700744  \n",
       "1257  1.578699    801.812805  \n",
       "\n",
       "[1258 rows x 20 columns]"
      ]
     },
     "execution_count": 145,
     "metadata": {},
     "output_type": "execute_result"
    }
   ],
   "source": [
    "df = pd.read_csv(\"data/ASML_v1.csv\")\n",
    "df"
   ]
  },
  {
   "cell_type": "markdown",
   "metadata": {},
   "source": [
    "## Feature selection\n",
    "\n",
    "https://scikit-learn.org/stable/modules/feature_selection.html"
   ]
  },
  {
   "cell_type": "code",
   "execution_count": 146,
   "metadata": {},
   "outputs": [
    {
     "data": {
      "text/plain": [
       "array([[0.00000000e+00, 1.01239998e+02, 1.02849998e+02, ...,\n",
       "                   nan,            nan, 1.31113497e+04],\n",
       "       [1.00000000e+00, 1.03580002e+02, 1.04750000e+02, ...,\n",
       "                   nan,            nan, 1.83028977e+04],\n",
       "       [2.00000000e+00, 1.04089996e+02, 1.05110001e+02, ...,\n",
       "                   nan,            nan, 1.33999434e+04],\n",
       "       ...,\n",
       "       [1.25500000e+03, 8.40000000e+02, 8.55000000e+02, ...,\n",
       "        1.66472369e+00, 1.66470031e+00, 6.23745050e+02],\n",
       "       [1.25600000e+03, 8.55000000e+02, 8.61599976e+02, ...,\n",
       "        2.24305217e+00, 1.68099732e+00, 7.44700744e+02],\n",
       "       [1.25700000e+03, 8.51520020e+02, 8.62609985e+02, ...,\n",
       "        2.58638847e+00, 1.57869934e+00, 8.01812805e+02]])"
      ]
     },
     "execution_count": 146,
     "metadata": {},
     "output_type": "execute_result"
    }
   ],
   "source": [
    "from sklearn.feature_selection import VarianceThreshold\n",
    "sel = VarianceThreshold(0)\n",
    "sel.fit_transform(df.drop([\"Date\"],axis=1))"
   ]
  },
  {
   "cell_type": "markdown",
   "metadata": {},
   "source": [
    "## Feature ranking"
   ]
  },
  {
   "cell_type": "code",
   "execution_count": 80,
   "metadata": {},
   "outputs": [
    {
     "ename": "NameError",
     "evalue": "name 'X' is not defined",
     "output_type": "error",
     "traceback": [
      "\u001b[1;31m---------------------------------------------------------------------------\u001b[0m",
      "\u001b[1;31mNameError\u001b[0m                                 Traceback (most recent call last)",
      "\u001b[1;32m<ipython-input-80-bbfa68e3a282>\u001b[0m in \u001b[0;36m<module>\u001b[1;34m\u001b[0m\n\u001b[0;32m      2\u001b[0m \u001b[1;32mfrom\u001b[0m \u001b[0msklearn\u001b[0m\u001b[1;33m.\u001b[0m\u001b[0mlinear_model\u001b[0m \u001b[1;32mimport\u001b[0m \u001b[0mLassoCV\u001b[0m\u001b[1;33m\u001b[0m\u001b[1;33m\u001b[0m\u001b[0m\n\u001b[0;32m      3\u001b[0m \u001b[1;33m\u001b[0m\u001b[0m\n\u001b[1;32m----> 4\u001b[1;33m \u001b[0mlasso\u001b[0m \u001b[1;33m=\u001b[0m \u001b[0mLassoCV\u001b[0m\u001b[1;33m(\u001b[0m\u001b[1;33m)\u001b[0m\u001b[1;33m.\u001b[0m\u001b[0mfit\u001b[0m\u001b[1;33m(\u001b[0m\u001b[0mX\u001b[0m\u001b[1;33m,\u001b[0m \u001b[0my\u001b[0m\u001b[1;33m)\u001b[0m\u001b[1;33m\u001b[0m\u001b[1;33m\u001b[0m\u001b[0m\n\u001b[0m\u001b[0;32m      5\u001b[0m \u001b[0mimportance\u001b[0m \u001b[1;33m=\u001b[0m \u001b[0mnp\u001b[0m\u001b[1;33m.\u001b[0m\u001b[0mabs\u001b[0m\u001b[1;33m(\u001b[0m\u001b[0mlasso\u001b[0m\u001b[1;33m.\u001b[0m\u001b[0mcoef_\u001b[0m\u001b[1;33m)\u001b[0m\u001b[1;33m\u001b[0m\u001b[1;33m\u001b[0m\u001b[0m\n\u001b[0;32m      6\u001b[0m \u001b[0mfeature_names\u001b[0m \u001b[1;33m=\u001b[0m \u001b[0mnp\u001b[0m\u001b[1;33m.\u001b[0m\u001b[0marray\u001b[0m\u001b[1;33m(\u001b[0m\u001b[0mdiabetes\u001b[0m\u001b[1;33m.\u001b[0m\u001b[0mfeature_names\u001b[0m\u001b[1;33m)\u001b[0m\u001b[1;33m\u001b[0m\u001b[1;33m\u001b[0m\u001b[0m\n",
      "\u001b[1;31mNameError\u001b[0m: name 'X' is not defined"
     ]
    }
   ],
   "source": [
    "import matplotlib.pyplot as plt\n",
    "from sklearn.linear_model import LassoCV\n",
    "\n",
    "lasso = LassoCV().fit(X, y)\n",
    "importance = np.abs(lasso.coef_)\n",
    "feature_names = np.array(diabetes.feature_names)\n",
    "plt.bar(height=importance, x=feature_names)\n",
    "plt.title(\"Feature importances via coefficients\")\n",
    "plt.show()"
   ]
  },
  {
   "cell_type": "code",
   "execution_count": 147,
   "metadata": {},
   "outputs": [
    {
     "data": {
      "text/plain": [
       "Index(['Unnamed: 0', 'Date', 'Open', 'High', 'Low', 'Close', 'Adj Close',\n",
       "       'Volume', 'obv', 'ma6', 'ma10', 'rsi6', 'rsi10', 'macd', 'dif', 'atr10',\n",
       "       'atr20', 'bias6', 'bias10', 'tapi'],\n",
       "      dtype='object')"
      ]
     },
     "execution_count": 147,
     "metadata": {},
     "output_type": "execute_result"
    }
   ],
   "source": [
    "df.columns"
   ]
  },
  {
   "cell_type": "code",
   "execution_count": null,
   "metadata": {},
   "outputs": [],
   "source": []
  },
  {
   "cell_type": "markdown",
   "metadata": {},
   "source": [
    "# (PCA)"
   ]
  },
  {
   "cell_type": "code",
   "execution_count": 148,
   "metadata": {},
   "outputs": [],
   "source": [
    "import requests\n",
    "import matplotlib.pyplot as plt\n",
    "from datetime import datetime\n",
    "from sklearn.preprocessing import StandardScaler\n",
    "from sklearn.decomposition import PCA\n",
    "import seaborn as sns; sns.set()"
   ]
  },
  {
   "cell_type": "code",
   "execution_count": 149,
   "metadata": {},
   "outputs": [],
   "source": [
    "from sklearn.preprocessing import StandardScaler"
   ]
  },
  {
   "cell_type": "code",
   "execution_count": 150,
   "metadata": {},
   "outputs": [
    {
     "data": {
      "text/plain": [
       "Index(['Unnamed: 0', 'Date', 'Open', 'High', 'Low', 'Close', 'Adj Close',\n",
       "       'Volume', 'obv', 'ma6', 'ma10', 'rsi6', 'rsi10', 'macd', 'dif', 'atr10',\n",
       "       'atr20', 'bias6', 'bias10', 'tapi'],\n",
       "      dtype='object')"
      ]
     },
     "execution_count": 150,
     "metadata": {},
     "output_type": "execute_result"
    }
   ],
   "source": [
    "df.columns"
   ]
  },
  {
   "cell_type": "code",
   "execution_count": 151,
   "metadata": {},
   "outputs": [],
   "source": [
    "df.drop(['Unnamed: 0', 'Date'], axis=1, inplace=True)"
   ]
  },
  {
   "cell_type": "code",
   "execution_count": 152,
   "metadata": {},
   "outputs": [],
   "source": [
    "df.dropna(inplace=True)"
   ]
  },
  {
   "cell_type": "code",
   "execution_count": 153,
   "metadata": {},
   "outputs": [],
   "source": [
    "X_meaned = df - np.mean(df , axis = 0)"
   ]
  },
  {
   "cell_type": "code",
   "execution_count": 154,
   "metadata": {},
   "outputs": [],
   "source": [
    "# calculating the covariance matrix of the mean-centered data.\n",
    "cov_mat = np.cov(X_meaned , rowvar = False)"
   ]
  },
  {
   "cell_type": "code",
   "execution_count": 155,
   "metadata": {},
   "outputs": [],
   "source": [
    "#Calculating Eigenvalues and Eigenvectors of the covariance matrix\n",
    "eigen_values , eigen_vectors = np.linalg.eigh(cov_mat)"
   ]
  },
  {
   "cell_type": "code",
   "execution_count": 156,
   "metadata": {},
   "outputs": [],
   "source": [
    "#sort the eigenvalues in descending order\n",
    "sorted_index = np.argsort(eigen_values)[::-1]\n",
    " \n",
    "sorted_eigenvalue = eigen_values[sorted_index]\n",
    "#similarly sort the eigenvectors \n",
    "sorted_eigenvectors = eigen_vectors[:,sorted_index]\n"
   ]
  },
  {
   "cell_type": "code",
   "execution_count": 157,
   "metadata": {},
   "outputs": [],
   "source": [
    "# select the first n eigenvectors, n is desired dimension\n",
    "# of our final reduced data"
   ]
  },
  {
   "cell_type": "markdown",
   "metadata": {},
   "source": [
    "#you can select any number of components."
   ]
  },
  {
   "cell_type": "code",
   "execution_count": 165,
   "metadata": {},
   "outputs": [],
   "source": [
    "n_components = 2 #you can select any number of components.\n",
    "eigenvector_subset = sorted_eigenvectors[:,0:n_components]"
   ]
  },
  {
   "cell_type": "code",
   "execution_count": 166,
   "metadata": {},
   "outputs": [],
   "source": [
    "#Transform the data \n",
    "X_reduced = np.dot(eigenvector_subset.transpose(),X_meaned.transpose()).transpose()"
   ]
  },
  {
   "cell_type": "code",
   "execution_count": 167,
   "metadata": {},
   "outputs": [
    {
     "data": {
      "text/plain": [
       "(1225, 2)"
      ]
     },
     "execution_count": 167,
     "metadata": {},
     "output_type": "execute_result"
    }
   ],
   "source": [
    "X_reduced.shape"
   ]
  },
  {
   "cell_type": "code",
   "execution_count": 170,
   "metadata": {},
   "outputs": [
    {
     "data": {
      "text/plain": [
       "Text(0, 0.5, 'PC2')"
      ]
     },
     "execution_count": 170,
     "metadata": {},
     "output_type": "execute_result"
    },
    {
     "data": {
      "image/png": "[encoded data removed]",
      "text/plain": [
       "<Figure size 576x432 with 1 Axes>"
      ]
     },
     "metadata": {},
     "output_type": "display_data"
    }
   ],
   "source": [
    "# giving a larger plot\n",
    "plt.figure(figsize =(8, 6))\n",
    "  \n",
    "plt.scatter(X_reduced[:, 0], X_reduced[:, 1], cmap ='plasma')\n",
    "  \n",
    "# labeling x and y axes\n",
    "plt.xlabel('PC1')\n",
    "plt.ylabel('PC2')"
   ]
  },
  {
   "cell_type": "code",
   "execution_count": null,
   "metadata": {},
   "outputs": [],
   "source": []
  }
 ],
 "metadata": {
  "kernelspec": {
   "display_name": "Python 3",
   "language": "python",
   "name": "python3"
  },
  "language_info": {
   "codemirror_mode": {
    "name": "ipython",
    "version": 3
   },
   "file_extension": ".py",
   "mimetype": "text/x-python",
   "name": "python",
   "nbconvert_exporter": "python",
   "pygments_lexer": "ipython3",
   "version": "3.8.5"
  }
 },
 "nbformat": 4,
 "nbformat_minor": 5
}

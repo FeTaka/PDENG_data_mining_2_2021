{
 "cells": [
  {
   "cell_type": "markdown",
   "id": "86fd4e5b-64c2-4d01-b90e-0232e168e468",
   "metadata": {},
   "source": [
    "# ASML Stocks Trend Prediction\n",
    "\n",
    "## Team Toilet\n",
    "\n",
    "\n",
    "Describe the objective"
   ]
  },
  {
   "cell_type": "code",
   "execution_count": null,
   "id": "b55f2c49-2079-4761-80da-9546cf534b26",
   "metadata": {},
   "outputs": [],
   "source": []
  },
  {
   "cell_type": "markdown",
   "id": "4ab4c09f-55d7-4dae-9909-d69ab632436e",
   "metadata": {
    "tags": []
   },
   "source": [
    "### Feature Creation\n",
    "\n",
    "We selected some feature prsentin our references [1], [2]:\n",
    "\n",
    "\n",
    "\n",
    "[1]: Y. Lin, H. Guo and J. Hu, \"An SVM-based approach for stock market trend prediction,\" The 2013 International Joint Conference on Neural Networks (IJCNN), 2013, pp. 1-7, doi: 10.1109/IJCNN.2013.6706743.\n",
    "\n",
    "[2]: Chenn-Jung Huang, Dian-Xiu Yang, Yi-Ta Chuang, \"Application of wrapper approach and composite classifier to the stock trend prediction\", Expert Systems with Applications, Volume 34, Issue 4, 2008, Pages 2870-2878, ISSN 0957-4174, DOI: https://doi.org/10.1016/j.eswa.2007.05.035."
   ]
  },
  {
   "cell_type": "code",
   "execution_count": null,
   "id": "cf6ba82f-fd11-4bda-865c-e62fa1df64d0",
   "metadata": {},
   "outputs": [],
   "source": []
  }
 ],
 "metadata": {
  "kernelspec": {
   "display_name": "Python 3 (ipykernel)",
   "language": "python",
   "name": "python3"
  },
  "language_info": {
   "codemirror_mode": {
    "name": "ipython",
    "version": 3
   },
   "file_extension": ".py",
   "mimetype": "text/x-python",
   "name": "python",
   "nbconvert_exporter": "python",
   "pygments_lexer": "ipython3",
   "version": "3.9.9"
  }
 },
 "nbformat": 4,
 "nbformat_minor": 5
}
